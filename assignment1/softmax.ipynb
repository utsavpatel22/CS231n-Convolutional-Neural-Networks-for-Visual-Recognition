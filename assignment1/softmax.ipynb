{
 "cells": [
  {
   "cell_type": "markdown",
   "metadata": {
    "tags": [
     "pdf-title"
    ]
   },
   "source": [
    "# Softmax exercise\n",
    "\n",
    "*Complete and hand in this completed worksheet (including its outputs and any supporting code outside of the worksheet) with your assignment submission. For more details see the [assignments page](http://vision.stanford.edu/teaching/cs231n/assignments.html) on the course website.*\n",
    "\n",
    "This exercise is analogous to the SVM exercise. You will:\n",
    "\n",
    "- implement a fully-vectorized **loss function** for the Softmax classifier\n",
    "- implement the fully-vectorized expression for its **analytic gradient**\n",
    "- **check your implementation** with numerical gradient\n",
    "- use a validation set to **tune the learning rate and regularization** strength\n",
    "- **optimize** the loss function with **SGD**\n",
    "- **visualize** the final learned weights\n"
   ]
  },
  {
   "cell_type": "code",
   "execution_count": 1,
   "metadata": {
    "tags": [
     "pdf-ignore"
    ]
   },
   "outputs": [],
   "source": [
    "import random\n",
    "import numpy as np\n",
    "from cs231n.data_utils import load_CIFAR10\n",
    "import matplotlib.pyplot as plt\n",
    "\n",
    "%matplotlib inline\n",
    "plt.rcParams['figure.figsize'] = (10.0, 8.0) # set default size of plots\n",
    "plt.rcParams['image.interpolation'] = 'nearest'\n",
    "plt.rcParams['image.cmap'] = 'gray'\n",
    "\n",
    "# for auto-reloading extenrnal modules\n",
    "# see http://stackoverflow.com/questions/1907993/autoreload-of-modules-in-ipython\n",
    "%load_ext autoreload\n",
    "%autoreload 2"
   ]
  },
  {
   "cell_type": "code",
   "execution_count": 2,
   "metadata": {
    "tags": [
     "pdf-ignore"
    ]
   },
   "outputs": [
    {
     "name": "stdout",
     "output_type": "stream",
     "text": [
      "Train data shape:  (49000, 3073)\n",
      "Train labels shape:  (49000,)\n",
      "Validation data shape:  (1000, 3073)\n",
      "Validation labels shape:  (1000,)\n",
      "Test data shape:  (1000, 3073)\n",
      "Test labels shape:  (1000,)\n",
      "dev data shape:  (500, 3073)\n",
      "dev labels shape:  (500,)\n"
     ]
    }
   ],
   "source": [
    "def get_CIFAR10_data(num_training=49000, num_validation=1000, num_test=1000, num_dev=500):\n",
    "    \"\"\"\n",
    "    Load the CIFAR-10 dataset from disk and perform preprocessing to prepare\n",
    "    it for the linear classifier. These are the same steps as we used for the\n",
    "    SVM, but condensed to a single function.  \n",
    "    \"\"\"\n",
    "    # Load the raw CIFAR-10 data\n",
    "    cifar10_dir = 'cs231n/datasets/cifar-10-batches-py'\n",
    "    \n",
    "    # Cleaning up variables to prevent loading data multiple times (which may cause memory issue)\n",
    "    try:\n",
    "       del X_train, y_train\n",
    "       del X_test, y_test\n",
    "       print('Clear previously loaded data.')\n",
    "    except:\n",
    "       pass\n",
    "\n",
    "    X_train, y_train, X_test, y_test = load_CIFAR10(cifar10_dir)\n",
    "    \n",
    "    # subsample the data\n",
    "    mask = list(range(num_training, num_training + num_validation))\n",
    "    X_val = X_train[mask]\n",
    "    y_val = y_train[mask]\n",
    "    mask = list(range(num_training))\n",
    "    X_train = X_train[mask]\n",
    "    y_train = y_train[mask]\n",
    "    mask = list(range(num_test))\n",
    "    X_test = X_test[mask]\n",
    "    y_test = y_test[mask]\n",
    "    mask = np.random.choice(num_training, num_dev, replace=False)\n",
    "    X_dev = X_train[mask]\n",
    "    y_dev = y_train[mask]\n",
    "    \n",
    "    # Preprocessing: reshape the image data into rows\n",
    "    X_train = np.reshape(X_train, (X_train.shape[0], -1))\n",
    "    X_val = np.reshape(X_val, (X_val.shape[0], -1))\n",
    "    X_test = np.reshape(X_test, (X_test.shape[0], -1))\n",
    "    X_dev = np.reshape(X_dev, (X_dev.shape[0], -1))\n",
    "    \n",
    "    # Normalize the data: subtract the mean image\n",
    "    mean_image = np.mean(X_train, axis = 0)\n",
    "    X_train -= mean_image\n",
    "    X_val -= mean_image\n",
    "    X_test -= mean_image\n",
    "    X_dev -= mean_image\n",
    "    \n",
    "    # add bias dimension and transform into columns\n",
    "    X_train = np.hstack([X_train, np.ones((X_train.shape[0], 1))])\n",
    "    X_val = np.hstack([X_val, np.ones((X_val.shape[0], 1))])\n",
    "    X_test = np.hstack([X_test, np.ones((X_test.shape[0], 1))])\n",
    "    X_dev = np.hstack([X_dev, np.ones((X_dev.shape[0], 1))])\n",
    "    \n",
    "    return X_train, y_train, X_val, y_val, X_test, y_test, X_dev, y_dev\n",
    "\n",
    "\n",
    "# Invoke the above function to get our data.\n",
    "X_train, y_train, X_val, y_val, X_test, y_test, X_dev, y_dev = get_CIFAR10_data()\n",
    "print('Train data shape: ', X_train.shape)\n",
    "print('Train labels shape: ', y_train.shape)\n",
    "print('Validation data shape: ', X_val.shape)\n",
    "print('Validation labels shape: ', y_val.shape)\n",
    "print('Test data shape: ', X_test.shape)\n",
    "print('Test labels shape: ', y_test.shape)\n",
    "print('dev data shape: ', X_dev.shape)\n",
    "print('dev labels shape: ', y_dev.shape)"
   ]
  },
  {
   "cell_type": "markdown",
   "metadata": {},
   "source": [
    "## Softmax Classifier\n",
    "\n",
    "Your code for this section will all be written inside `cs231n/classifiers/softmax.py`.\n"
   ]
  },
  {
   "cell_type": "code",
   "execution_count": 31,
   "metadata": {},
   "outputs": [
    {
     "name": "stdout",
     "output_type": "stream",
     "text": [
      "loss: 2.355887\n",
      "sanity check: 2.302585\n"
     ]
    }
   ],
   "source": [
    "# First implement the naive softmax loss function with nested loops.\n",
    "# Open the file cs231n/classifiers/softmax.py and implement the\n",
    "# softmax_loss_naive function.\n",
    "\n",
    "from cs231n.classifiers.softmax import softmax_loss_naive\n",
    "import time\n",
    "\n",
    "# Generate a random softmax weight matrix and use it to compute the loss.\n",
    "W = np.random.randn(3073, 10) * 0.0001\n",
    "loss, grad = softmax_loss_naive(W, X_dev, y_dev, 0.0)\n",
    "\n",
    "# As a rough sanity check, our loss should be something close to -log(0.1).\n",
    "print('loss: %f' % loss)\n",
    "print('sanity check: %f' % (-np.log(0.1)))"
   ]
  },
  {
   "cell_type": "markdown",
   "metadata": {
    "tags": [
     "pdf-inline"
    ]
   },
   "source": [
    "**Inline Question 1**\n",
    "\n",
    "Why do we expect our loss to be close to -log(0.1)? Explain briefly.**\n",
    "\n",
    "$\\color{blue}{\\textit Your Answer:}$ *Fill this in* \n",
    "\n"
   ]
  },
  {
   "cell_type": "code",
   "execution_count": 35,
   "metadata": {},
   "outputs": [
    {
     "name": "stdout",
     "output_type": "stream",
     "text": [
      "numerical: 3.097908 analytic: 3.097908, relative error: 1.300181e-08\n",
      "numerical: -1.404803 analytic: -1.404803, relative error: 2.749960e-08\n",
      "numerical: -1.971344 analytic: -1.971344, relative error: 2.796589e-09\n",
      "numerical: -0.798563 analytic: -0.798563, relative error: 3.553057e-09\n",
      "numerical: 3.502224 analytic: 3.502224, relative error: 1.931720e-08\n",
      "numerical: -3.733955 analytic: -3.733955, relative error: 1.881507e-08\n",
      "numerical: 2.592064 analytic: 2.592064, relative error: 1.042121e-08\n",
      "numerical: 3.779990 analytic: 3.779990, relative error: 8.656514e-10\n",
      "numerical: 0.184016 analytic: 0.184016, relative error: 1.979157e-07\n",
      "numerical: 1.030513 analytic: 1.030513, relative error: 8.585484e-08\n",
      "numerical: -1.424612 analytic: -1.424612, relative error: 5.119632e-09\n",
      "numerical: 0.566147 analytic: 0.566146, relative error: 6.204692e-08\n",
      "numerical: 2.845482 analytic: 2.845482, relative error: 5.642965e-09\n",
      "numerical: -0.634515 analytic: -0.634515, relative error: 5.557805e-08\n",
      "numerical: -3.028514 analytic: -3.028514, relative error: 1.885210e-08\n",
      "numerical: -3.068117 analytic: -3.068117, relative error: 1.408610e-09\n",
      "numerical: -0.684398 analytic: -0.684398, relative error: 4.766251e-08\n",
      "numerical: -1.934751 analytic: -1.934751, relative error: 2.558667e-08\n",
      "numerical: -1.169598 analytic: -1.169598, relative error: 4.385330e-08\n",
      "numerical: -0.350286 analytic: -0.350286, relative error: 5.218343e-08\n"
     ]
    }
   ],
   "source": [
    "# Complete the implementation of softmax_loss_naive and implement a (naive)\n",
    "# version of the gradient that uses nested loops.\n",
    "loss, grad = softmax_loss_naive(W, X_dev, y_dev, 0.0)\n",
    "\n",
    "# As we did for the SVM, use numeric gradient checking as a debugging tool.\n",
    "# The numeric gradient should be close to the analytic gradient.\n",
    "from cs231n.gradient_check import grad_check_sparse\n",
    "f = lambda w: softmax_loss_naive(w, X_dev, y_dev, 0.0)[0]\n",
    "grad_numerical = grad_check_sparse(f, W, grad, 10)\n",
    "\n",
    "# similar to SVM case, do another gradient check with regularization\n",
    "loss, grad = softmax_loss_naive(W, X_dev, y_dev, 5e1)\n",
    "f = lambda w: softmax_loss_naive(w, X_dev, y_dev, 5e1)[0]\n",
    "grad_numerical = grad_check_sparse(f, W, grad, 10)"
   ]
  },
  {
   "cell_type": "code",
   "execution_count": 66,
   "metadata": {},
   "outputs": [
    {
     "name": "stdout",
     "output_type": "stream",
     "text": [
      "naive loss: 2.355887e+00 computed in 0.132180s\n",
      "vectorized loss: 2.355887e+00 computed in 0.005862s\n",
      "Loss difference: 0.000000\n",
      "Gradient difference: 0.000000\n"
     ]
    }
   ],
   "source": [
    "# Now that we have a naive implementation of the softmax loss function and its gradient,\n",
    "# implement a vectorized version in softmax_loss_vectorized.\n",
    "# The two versions should compute the same results, but the vectorized version should be\n",
    "# much faster.\n",
    "tic = time.time()\n",
    "loss_naive, grad_naive = softmax_loss_naive(W, X_dev, y_dev, 0.000005)\n",
    "toc = time.time()\n",
    "print('naive loss: %e computed in %fs' % (loss_naive, toc - tic))\n",
    "\n",
    "from cs231n.classifiers.softmax import softmax_loss_vectorized\n",
    "tic = time.time()\n",
    "loss_vectorized, grad_vectorized = softmax_loss_vectorized(W, X_dev, y_dev, 0.000005)\n",
    "toc = time.time()\n",
    "print('vectorized loss: %e computed in %fs' % (loss_vectorized, toc - tic))\n",
    "\n",
    "# As we did for the SVM, we use the Frobenius norm to compare the two versions\n",
    "# of the gradient.\n",
    "grad_difference = np.linalg.norm(grad_naive - grad_vectorized, ord='fro')\n",
    "print('Loss difference: %f' % np.abs(loss_naive - loss_vectorized))\n",
    "print('Gradient difference: %f' % grad_difference)"
   ]
  },
  {
   "cell_type": "code",
   "execution_count": null,
   "metadata": {
    "id": "tuning",
    "tags": [
     "code"
    ]
   },
   "outputs": [
    {
     "name": "stdout",
     "output_type": "stream",
     "text": [
      "iteration 0 / 1500: loss 37.587570\n",
      "iteration 100 / 1500: loss 33.033600\n",
      "iteration 200 / 1500: loss 31.572000\n",
      "iteration 300 / 1500: loss 30.297388\n",
      "iteration 400 / 1500: loss 28.936070\n",
      "iteration 500 / 1500: loss 27.652490\n",
      "iteration 600 / 1500: loss 26.623059\n",
      "iteration 700 / 1500: loss 25.656635\n",
      "iteration 800 / 1500: loss 24.561600\n",
      "iteration 900 / 1500: loss 23.561779\n",
      "iteration 1000 / 1500: loss 22.769250\n",
      "iteration 1100 / 1500: loss 21.854859\n",
      "iteration 1200 / 1500: loss 20.895045\n",
      "iteration 1300 / 1500: loss 20.159654\n",
      "iteration 1400 / 1500: loss 19.311444\n",
      "iteration 0 / 1500: loss 315.391187\n",
      "iteration 100 / 1500: loss 210.867262\n",
      "iteration 200 / 1500: loss 141.442808\n",
      "iteration 300 / 1500: loss 95.236558\n",
      "iteration 400 / 1500: loss 64.343882\n",
      "iteration 500 / 1500: loss 43.723333\n",
      "iteration 600 / 1500: loss 29.977320\n",
      "iteration 700 / 1500: loss 20.677483\n",
      "iteration 800 / 1500: loss 14.486371\n",
      "iteration 900 / 1500: loss 10.275702\n",
      "iteration 1000 / 1500: loss 7.569261\n",
      "iteration 1100 / 1500: loss 5.690356\n",
      "iteration 1200 / 1500: loss 4.544810\n",
      "iteration 1300 / 1500: loss 3.672947\n",
      "iteration 1400 / 1500: loss 3.098290\n",
      "iteration 0 / 1500: loss 621.395461\n",
      "iteration 100 / 1500: loss 278.131458\n",
      "iteration 200 / 1500: loss 125.530330\n",
      "iteration 300 / 1500: loss 57.248278\n",
      "iteration 400 / 1500: loss 26.845728\n",
      "iteration 500 / 1500: loss 13.153906\n",
      "iteration 600 / 1500: loss 7.008457\n",
      "iteration 700 / 1500: loss 4.267643\n",
      "iteration 800 / 1500: loss 3.006035\n",
      "iteration 900 / 1500: loss 2.540488\n",
      "iteration 1000 / 1500: loss 2.274091\n",
      "iteration 1100 / 1500: loss 2.183883\n",
      "iteration 1200 / 1500: loss 2.149786\n",
      "iteration 1300 / 1500: loss 2.053070\n",
      "iteration 1400 / 1500: loss 2.093319\n",
      "iteration 0 / 1500: loss 777.368267\n",
      "iteration 100 / 1500: loss 285.540245\n",
      "iteration 200 / 1500: loss 105.818492\n",
      "iteration 300 / 1500: loss 39.924378\n",
      "iteration 400 / 1500: loss 16.001786\n",
      "iteration 500 / 1500: loss 7.244464\n",
      "iteration 600 / 1500: loss 3.918411\n",
      "iteration 700 / 1500: loss 2.687093\n",
      "iteration 800 / 1500: loss 2.328194\n",
      "iteration 900 / 1500: loss 2.139258\n",
      "iteration 1000 / 1500: loss 2.100758\n",
      "iteration 1100 / 1500: loss 2.097219\n",
      "iteration 1200 / 1500: loss 2.108385\n",
      "iteration 1300 / 1500: loss 2.182179\n",
      "iteration 1400 / 1500: loss 2.013084\n",
      "iteration 0 / 1500: loss 930.836446\n",
      "iteration 100 / 1500: loss 279.851864\n",
      "iteration 200 / 1500: loss 85.167400\n",
      "iteration 300 / 1500: loss 26.949972\n",
      "iteration 400 / 1500: loss 9.554277\n",
      "iteration 500 / 1500: loss 4.356890\n",
      "iteration 600 / 1500: loss 2.791242\n",
      "iteration 700 / 1500: loss 2.266628\n",
      "iteration 800 / 1500: loss 2.185228\n",
      "iteration 900 / 1500: loss 2.103227\n",
      "iteration 1000 / 1500: loss 2.171304\n",
      "iteration 1100 / 1500: loss 2.069937\n",
      "iteration 1200 / 1500: loss 2.089396\n",
      "iteration 1300 / 1500: loss 2.126258\n",
      "iteration 1400 / 1500: loss 2.101616\n",
      "iteration 0 / 1500: loss 1080.775358\n",
      "iteration 100 / 1500: loss 266.124845\n",
      "iteration 200 / 1500: loss 66.665283\n",
      "iteration 300 / 1500: loss 17.942884\n",
      "iteration 400 / 1500: loss 5.965167\n",
      "iteration 500 / 1500: loss 3.130282\n",
      "iteration 600 / 1500: loss 2.356230\n",
      "iteration 700 / 1500: loss 2.179965\n",
      "iteration 800 / 1500: loss 2.148081\n",
      "iteration 900 / 1500: loss 2.124093\n",
      "iteration 1000 / 1500: loss 2.060191\n",
      "iteration 1100 / 1500: loss 2.156701\n",
      "iteration 1200 / 1500: loss 2.115665\n",
      "iteration 1300 / 1500: loss 2.107182\n",
      "iteration 1400 / 1500: loss 2.147172\n",
      "iteration 0 / 1500: loss 35.581164\n",
      "iteration 100 / 1500: loss 15.267193\n",
      "iteration 200 / 1500: loss 7.953705\n",
      "iteration 300 / 1500: loss 4.577997\n",
      "iteration 400 / 1500: loss 2.964590\n",
      "iteration 500 / 1500: loss 2.349504\n",
      "iteration 600 / 1500: loss 2.017077\n",
      "iteration 700 / 1500: loss 1.897026\n",
      "iteration 800 / 1500: loss 1.965307\n",
      "iteration 900 / 1500: loss 1.799472\n",
      "iteration 1000 / 1500: loss 1.931371\n",
      "iteration 1100 / 1500: loss 1.885631\n",
      "iteration 1200 / 1500: loss 1.793655\n",
      "iteration 1300 / 1500: loss 1.821647\n",
      "iteration 1400 / 1500: loss 1.799796\n",
      "iteration 0 / 1500: loss 313.354732\n",
      "iteration 100 / 1500: loss 2.114797\n",
      "iteration 200 / 1500: loss 2.045278\n",
      "iteration 300 / 1500: loss 2.053277\n",
      "iteration 400 / 1500: loss 2.081403\n",
      "iteration 500 / 1500: loss 1.997364\n",
      "iteration 600 / 1500: loss 2.003603\n",
      "iteration 700 / 1500: loss 2.045795\n",
      "iteration 800 / 1500: loss 2.073478\n",
      "iteration 900 / 1500: loss 1.956054\n",
      "iteration 1000 / 1500: loss 2.025781\n",
      "iteration 1100 / 1500: loss 1.967796\n",
      "iteration 1200 / 1500: loss 2.058542\n",
      "iteration 1300 / 1500: loss 2.063086\n",
      "iteration 1400 / 1500: loss 2.098255\n",
      "iteration 0 / 1500: loss 619.794630\n",
      "iteration 100 / 1500: loss 2.014155\n",
      "iteration 200 / 1500: loss 2.102614\n",
      "iteration 300 / 1500: loss 2.064769\n",
      "iteration 400 / 1500: loss 2.113807\n",
      "iteration 500 / 1500: loss 2.123883\n",
      "iteration 600 / 1500: loss 2.106555\n",
      "iteration 700 / 1500: loss 2.139509\n",
      "iteration 800 / 1500: loss 2.091434\n",
      "iteration 900 / 1500: loss 2.108885\n",
      "iteration 1000 / 1500: loss 2.041920\n",
      "iteration 1100 / 1500: loss 2.070590\n",
      "iteration 1200 / 1500: loss 2.165979\n",
      "iteration 1300 / 1500: loss 2.151687\n",
      "iteration 1400 / 1500: loss 2.150729\n",
      "iteration 0 / 1500: loss 771.736292\n",
      "iteration 100 / 1500: loss 2.124995\n",
      "iteration 200 / 1500: loss 2.098511\n",
      "iteration 300 / 1500: loss 2.068078\n",
      "iteration 400 / 1500: loss 2.142239\n",
      "iteration 500 / 1500: loss 2.096443\n",
      "iteration 600 / 1500: loss 2.136882\n",
      "iteration 700 / 1500: loss 2.182000\n",
      "iteration 800 / 1500: loss 2.139320\n",
      "iteration 900 / 1500: loss 2.124596\n",
      "iteration 1000 / 1500: loss 2.118616\n",
      "iteration 1100 / 1500: loss 2.124758\n",
      "iteration 1200 / 1500: loss 2.170789\n",
      "iteration 1300 / 1500: loss 2.060723\n",
      "iteration 1400 / 1500: loss 2.119450\n",
      "iteration 0 / 1500: loss 928.188435\n",
      "iteration 100 / 1500: loss 2.084538\n",
      "iteration 200 / 1500: loss 2.125550\n",
      "iteration 300 / 1500: loss 2.176695\n",
      "iteration 400 / 1500: loss 2.099627\n",
      "iteration 500 / 1500: loss 2.119543\n",
      "iteration 600 / 1500: loss 2.137279\n",
      "iteration 700 / 1500: loss 2.092803\n",
      "iteration 800 / 1500: loss 2.103329\n",
      "iteration 900 / 1500: loss 2.164672\n",
      "iteration 1000 / 1500: loss 2.105583\n",
      "iteration 1100 / 1500: loss 2.191583\n",
      "iteration 1200 / 1500: loss 2.084427\n",
      "iteration 1300 / 1500: loss 2.114296\n",
      "iteration 1400 / 1500: loss 2.165812\n",
      "iteration 0 / 1500: loss 1090.729629\n",
      "iteration 100 / 1500: loss 2.177832\n",
      "iteration 200 / 1500: loss 2.150433\n",
      "iteration 300 / 1500: loss 2.094379\n",
      "iteration 400 / 1500: loss 2.071727\n",
      "iteration 500 / 1500: loss 2.200138\n",
      "iteration 600 / 1500: loss 2.203106\n",
      "iteration 700 / 1500: loss 2.167112\n",
      "iteration 800 / 1500: loss 2.166842\n",
      "iteration 900 / 1500: loss 2.191292\n",
      "iteration 1000 / 1500: loss 2.106397\n",
      "iteration 1100 / 1500: loss 2.135658\n"
     ]
    }
   ],
   "source": [
    "# Use the validation set to tune hyperparameters (regularization strength and\n",
    "# learning rate). You should experiment with different ranges for the learning\n",
    "# rates and regularization strengths; if you are careful you should be able to\n",
    "# get a classification accuracy of over 0.35 on the validation set.\n",
    "\n",
    "from cs231n.classifiers import Softmax\n",
    "results = {}\n",
    "best_val = -1\n",
    "best_softmax = None\n",
    "\n",
    "################################################################################\n",
    "# TODO:                                                                        #\n",
    "# Use the validation set to set the learning rate and regularization strength. #\n",
    "# This should be identical to the validation that you did for the SVM; save    #\n",
    "# the best trained softmax classifer in best_softmax.                          #\n",
    "################################################################################\n",
    "\n",
    "# Provided as a reference. You may or may not want to change these hyperparameters\n",
    "# learning_rates = [1e-7, 5e-7]\n",
    "# regularization_strengths = [2.5e4, 5e4]\n",
    "learning_rates = [1e-7, 2e-6, 2.5e-6]\n",
    "regularization_strengths = [1e3, 1e4, 2e4, 2.5e4, 3e4, 3.5e4]\n",
    "\n",
    "# *****START OF YOUR CODE (DO NOT DELETE/MODIFY THIS LINE)*****\n",
    "\n",
    "for lr in learning_rates:\n",
    "    for reg in regularization_strengths:\n",
    "        softmax = Softmax()\n",
    "        loss_hist = softmax.train(X_train, y_train, learning_rate= lr, reg= reg, num_iters=1500, verbose=True)\n",
    "        y_train_pred = softmax.predict(X_train)\n",
    "        y_val_pred = softmax.predict(X_val)\n",
    "        results[(lr, reg)] = (np.mean(y_train == y_train_pred), np.mean(y_val == y_val_pred))\n",
    "        \n",
    "        if best_val < np.mean(y_val == y_val_pred):\n",
    "            best_val = np.mean(y_val == y_val_pred)\n",
    "            best_softmax = softmax\n",
    "\n",
    "# *****END OF YOUR CODE (DO NOT DELETE/MODIFY THIS LINE)*****\n",
    "    \n",
    "# Print out results.\n",
    "for lr, reg in sorted(results):\n",
    "    train_accuracy, val_accuracy = results[(lr, reg)]\n",
    "    print('lr %e reg %e train accuracy: %f val accuracy: %f' % (\n",
    "                lr, reg, train_accuracy, val_accuracy))\n",
    "    \n",
    "print('best validation accuracy achieved during cross-validation: %f' % best_val)"
   ]
  },
  {
   "cell_type": "code",
   "execution_count": 69,
   "metadata": {
    "id": "test"
   },
   "outputs": [
    {
     "name": "stdout",
     "output_type": "stream",
     "text": [
      "softmax on raw pixels final test set accuracy: 0.339000\n"
     ]
    }
   ],
   "source": [
    "# evaluate on test set\n",
    "# Evaluate the best softmax on test set\n",
    "y_test_pred = best_softmax.predict(X_test)\n",
    "test_accuracy = np.mean(y_test == y_test_pred)\n",
    "print('softmax on raw pixels final test set accuracy: %f' % (test_accuracy, ))"
   ]
  },
  {
   "cell_type": "markdown",
   "metadata": {
    "tags": [
     "pdf-inline"
    ]
   },
   "source": [
    "**Inline Question 2** - *True or False*\n",
    "\n",
    "Suppose the overall training loss is defined as the sum of the per-datapoint loss over all training examples. It is possible to add a new datapoint to a training set that would leave the SVM loss unchanged, but this is not the case with the Softmax classifier loss.\n",
    "\n",
    "$\\color{blue}{\\textit Your Answer:}$\n",
    "\n",
    "\n",
    "$\\color{blue}{\\textit Your Explanation:}$\n",
    "\n"
   ]
  },
  {
   "cell_type": "code",
   "execution_count": 70,
   "metadata": {},
   "outputs": [
    {
     "data": {
      "image/png": "[encoded data removed]",
      "text/plain": [
       "<Figure size 432x288 with 10 Axes>"
      ]
     },
     "metadata": {
      "needs_background": "light"
     },
     "output_type": "display_data"
    }
   ],
   "source": [
    "# Visualize the learned weights for each class\n",
    "w = best_softmax.W[:-1,:] # strip out the bias\n",
    "w = w.reshape(32, 32, 3, 10)\n",
    "\n",
    "w_min, w_max = np.min(w), np.max(w)\n",
    "\n",
    "classes = ['plane', 'car', 'bird', 'cat', 'deer', 'dog', 'frog', 'horse', 'ship', 'truck']\n",
    "for i in range(10):\n",
    "    plt.subplot(2, 5, i + 1)\n",
    "    \n",
    "    # Rescale the weights to be between 0 and 255\n",
    "    wimg = 255.0 * (w[:, :, :, i].squeeze() - w_min) / (w_max - w_min)\n",
    "    plt.imshow(wimg.astype('uint8'))\n",
    "    plt.axis('off')\n",
    "    plt.title(classes[i])"
   ]
  },
  {
   "cell_type": "code",
   "execution_count": null,
   "metadata": {},
   "outputs": [],
   "source": []
  }
 ],
 "metadata": {
  "kernelspec": {
   "display_name": "Python 3",
   "language": "python",
   "name": "python3"
  },
  "language_info": {
   "codemirror_mode": {
    "name": "ipython",
    "version": 3
   },
   "file_extension": ".py",
   "mimetype": "text/x-python",
   "name": "python",
   "nbconvert_exporter": "python",
   "pygments_lexer": "ipython3",
   "version": "3.7.4"
  }
 },
 "nbformat": 4,
 "nbformat_minor": 1
}
